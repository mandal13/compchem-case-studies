{
 "cells": [
  {
   "cell_type": "markdown",
   "id": "f46433e2-7506-4151-8f87-b2089c4d01ac",
   "metadata": {},
   "source": [
    "# Spin Gap Energy Calculation: CH₂ Radical\n",
    "\n",
    "In this case study, we compute the **spin gap energy** of the CH₂ radical.  \n",
    "Here, the spin gap energy is defined as the difference in total energy between the **triplet ground state** and the **singlet state**.\n",
    "\n",
    "\n",
    "- A **negative value** indicates that the triplet state is lower in energy (more stable).  \n",
    "- We use the **FAIRChem MLIP** (`uma-s-1` model) as the calculator.  \n",
    "---\n",
    "\n",
    "## Further Reading\n",
    "\n",
    "For more details, see [FAIRChem documentation](https://fair-chem.github.io/uma_tutorials/uma_tutorial.html#spin-gap-energy-omol)."
   ]
  },
  {
   "cell_type": "code",
   "execution_count": 7,
   "id": "7ce3673c-31eb-41ed-8118-5b6ff0aba676",
   "metadata": {},
   "outputs": [
    {
     "name": "stdout",
     "output_type": "stream",
     "text": [
      "Spin gap energy (Triplet - Singlet) = -0.550836 eV\n"
     ]
    }
   ],
   "source": [
    "from fairchem.core import FAIRChemCalculator, pretrained_mlip\n",
    "from ase.build import molecule\n",
    "from ase.visualize import view\n",
    "\n",
    "# Load pretrained MLIP predictor\n",
    "predictor = pretrained_mlip.get_predict_unit(\"uma-s-1\", device=\"cpu\")\n",
    "\n",
    "# --- Singlet CH2 ---\n",
    "singlet = molecule(\"CH2_s1A1d\")\n",
    "singlet.info.update({\"spin\": 1, \"charge\": 0})\n",
    "singlet.calc = FAIRChemCalculator(predictor, task_name=\"omol\")\n",
    "\n",
    "# --- Triplet CH2 ---\n",
    "triplet = molecule(\"CH2_s3B1d\")\n",
    "triplet.info.update({\"spin\": 3, \"charge\": 0})\n",
    "triplet.calc = FAIRChemCalculator(predictor, task_name=\"omol\")\n",
    "\n",
    "# Compute spin gap energy\n",
    "spin_gap = triplet.get_potential_energy() - singlet.get_potential_energy()\n",
    "print(f\"Spin gap energy (Triplet - Singlet) = {spin_gap:.6f} eV\")\n"
   ]
  },
  {
   "cell_type": "markdown",
   "id": "e7dc00d2-8dbe-4bd7-895a-e05b1159bbf2",
   "metadata": {},
   "source": [
    "### ✅ Results\n",
    "\n",
    "The calculated spin gap energy is approximately **-0.55 eV**,  \n",
    "which indicates that the **triplet state is lower in energy** and therefore the ground state of the CH₂ radical.  "
   ]
  },
  {
   "cell_type": "code",
   "execution_count": 5,
   "id": "dc6cad64-9f1d-4771-8400-121d2baf285f",
   "metadata": {},
   "outputs": [
    {
     "name": "stdout",
     "output_type": "stream",
     "text": [
      "Visualizing Singlet CH2...\n"
     ]
    },
    {
     "data": {
      "application/vnd.jupyter.widget-view+json": {
       "model_id": "af6a42cbad254d318811b2c6ec38bb79",
       "version_major": 2,
       "version_minor": 0
      },
      "text/plain": []
     },
     "metadata": {},
     "output_type": "display_data"
    },
    {
     "data": {
      "application/vnd.jupyter.widget-view+json": {
       "model_id": "6578ef0b017844e88b40b08d988a4ca2",
       "version_major": 2,
       "version_minor": 0
      },
      "text/plain": [
       "HBox(children=(NGLWidget(), VBox(children=(Dropdown(description='Show', options=('All', 'C', 'H'), value='All'…"
      ]
     },
     "execution_count": 5,
     "metadata": {},
     "output_type": "execute_result"
    }
   ],
   "source": [
    "# --- Visualization ---\n",
    "print(\"Visualizing Singlet CH2...\")\n",
    "view(singlet, viewer=\"ngl\")"
   ]
  },
  {
   "cell_type": "code",
   "execution_count": 6,
   "id": "9f23ba36-b3a7-4793-a08f-01af634f9072",
   "metadata": {},
   "outputs": [
    {
     "name": "stdout",
     "output_type": "stream",
     "text": [
      "Visualizing Triplet CH2...\n"
     ]
    },
    {
     "data": {
      "application/vnd.jupyter.widget-view+json": {
       "model_id": "4ff5d125156b4092b0ca936d2dba71a1",
       "version_major": 2,
       "version_minor": 0
      },
      "text/plain": [
       "HBox(children=(NGLWidget(), VBox(children=(Dropdown(description='Show', options=('All', 'C', 'H'), value='All'…"
      ]
     },
     "execution_count": 6,
     "metadata": {},
     "output_type": "execute_result"
    }
   ],
   "source": [
    "print(\"Visualizing Triplet CH2...\")\n",
    "view(triplet, viewer=\"ngl\")"
   ]
  },
  {
   "cell_type": "markdown",
   "id": "c7c173d9-5da3-4571-a476-645c938cf9b6",
   "metadata": {},
   "source": [
    "## Bond Geometry Analysis\n",
    "\n",
    "We computed the bond lengths and bond angle for both spin states:\n",
    "\n",
    "- **Singlet CH₂ :** Smaller H–C–H angle (~102°) \n",
    "- **Triplet CH₂ :** Larger H–C–H angle (~132°)\n"
   ]
  },
  {
   "cell_type": "code",
   "execution_count": 14,
   "id": "401cfbb2-a431-4d02-9218-8b0adab7cbe8",
   "metadata": {},
   "outputs": [
    {
     "name": "stdout",
     "output_type": "stream",
     "text": [
      "📏 Geometry of CH₂ Singlet:\n",
      "C–H1 = 1.109 Å, C–H2 = 1.109 Å\n",
      "H–C–H angle = 102.07°\n",
      "\n",
      "📏 Geometry of CH₂ Triplet:\n",
      "C–H1 = 1.077 Å, C–H2 = 1.077 Å\n",
      "H–C–H angle = 131.61°\n"
     ]
    }
   ],
   "source": [
    "# --- Bond distances (C–H) ---\n",
    "d_CH1_singlet = singlet.get_distance(0, 1)   # indices: C=0, H=1, H=2\n",
    "d_CH2_singlet = singlet.get_distance(0, 2)\n",
    "d_CH1_triplet = triplet.get_distance(0, 1)\n",
    "d_CH2_triplet = triplet.get_distance(0, 2)\n",
    "\n",
    "# --- Bond angle (H–C–H) ---\n",
    "angle_singlet = singlet.get_angle(1, 0, 2)\n",
    "angle_triplet = triplet.get_angle(1, 0, 2)\n",
    "\n",
    "# Print results\n",
    "print(\"📏 Geometry of CH₂ Singlet:\")\n",
    "print(f\"C–H1 = {d_CH1_singlet:.3f} Å, C–H2 = {d_CH2_singlet:.3f} Å\")\n",
    "print(f\"H–C–H angle = {angle_singlet:.2f}°\\n\")\n",
    "\n",
    "print(\"📏 Geometry of CH₂ Triplet:\")\n",
    "print(f\"C–H1 = {d_CH1_triplet:.3f} Å, C–H2 = {d_CH2_triplet:.3f} Å\")\n",
    "print(f\"H–C–H angle = {angle_triplet:.2f}°\")"
   ]
  },
  {
   "cell_type": "code",
   "execution_count": null,
   "id": "9a9d2509-3f49-4ccc-8882-41716af70687",
   "metadata": {},
   "outputs": [],
   "source": []
  }
 ],
 "metadata": {
  "kernelspec": {
   "display_name": "Python 3 (ipykernel)",
   "language": "python",
   "name": "python3"
  },
  "language_info": {
   "codemirror_mode": {
    "name": "ipython",
    "version": 3
   },
   "file_extension": ".py",
   "mimetype": "text/x-python",
   "name": "python",
   "nbconvert_exporter": "python",
   "pygments_lexer": "ipython3",
   "version": "3.10.6"
  }
 },
 "nbformat": 4,
 "nbformat_minor": 5
}
