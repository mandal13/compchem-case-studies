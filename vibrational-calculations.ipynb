{
 "cells": [
  {
   "cell_type": "markdown",
   "id": "b813e2b2-62c5-45d5-abd6-f06115d72a39",
   "metadata": {},
   "source": [
    "# Vibrational Frequency Calculation with ASE and FAIRChem\n",
    "\n",
    "This notebook demonstrates how to calculate vibrational frequencies and visualize vibrational modes of molecules using **ASE (Atomic Simulation Environment)** and the **FAIRChem machine-learning interatomic potential (MLIP)**.\n",
    "\n",
    "As a case study, we will:\n",
    "- Build a water molecule.\n",
    "- Optimize its geometry using MLIP.\n",
    "- Calculate vibrational frequencies.\n",
    "- Visualize vibrational modes interactively.\n",
    "\n",
    "## Further Reading\n",
    "\n",
    "For more details, see [FAIRChem documentation](https://fair-chem.github.io/uma_tutorials/uma_tutorial.html#molecular-vibrations).\n"
   ]
  },
  {
   "cell_type": "code",
   "execution_count": 2,
   "id": "10895480-cd98-4b18-bfbb-aec1a8e0bd2d",
   "metadata": {},
   "outputs": [],
   "source": [
    "# Import essential packages from ASE\n",
    "from ase import Atoms\n",
    "from ase.optimize import BFGS, LBFGS\n",
    "from ase.vibrations import Vibrations\n",
    "from ase.build import molecule\n",
    "from ase.io.trajectory import Trajectory\n",
    "from ase.visualize import view\n",
    "\n",
    "# Import FAIRChem for machine learning interatomic potentials\n",
    "from fairchem.core import pretrained_mlip, FAIRChemCalculator\n",
    "import fairchem.core"
   ]
  },
  {
   "cell_type": "markdown",
   "id": "5d008e1e-d2a1-4983-9ada-e826e66e3c87",
   "metadata": {},
   "source": [
    "## Checking FAIRChem Version\n",
    "\n",
    "It is always good practice to check the version of FAIRChem being used to ensure reproducibility.\n"
   ]
  },
  {
   "cell_type": "code",
   "execution_count": 3,
   "id": "a708571c-b814-4313-b9a5-361dcf82f5f9",
   "metadata": {},
   "outputs": [
    {
     "data": {
      "text/plain": [
       "'2.3.0'"
      ]
     },
     "execution_count": 3,
     "metadata": {},
     "output_type": "execute_result"
    }
   ],
   "source": [
    "fairchem.core.__version__"
   ]
  },
  {
   "cell_type": "markdown",
   "id": "9aacc0a4-6b88-4b35-a2d6-517003bc6502",
   "metadata": {},
   "source": [
    "## Load Pretrained FAIRChem MLIP\n",
    "\n",
    "We use the `uma-s-1` pretrained FAIRChem model as the interatomic potential.\n"
   ]
  },
  {
   "cell_type": "code",
   "execution_count": 4,
   "id": "8f887e3e-dc72-4eb3-a12f-bae9c742f9f9",
   "metadata": {},
   "outputs": [],
   "source": [
    "# Load FAIRChem pretrained unit for MLIP prediction\n",
    "predictor = pretrained_mlip.get_predict_unit(\"uma-s-1\", device=\"cpu\")\n",
    "\n",
    "# Initialize the calculator\n",
    "calc = FAIRChemCalculator(predictor, task_name=\"omol\")"
   ]
  },
  {
   "cell_type": "markdown",
   "id": "95bc46a4-1d62-49bd-b88e-90eb8b2abdd7",
   "metadata": {},
   "source": [
    "## Build and Optimize Water Molecule\n",
    "\n",
    "We create a water molecule using ASE's built-in molecular builder.   \n",
    "- The structure is optimized with the LBFGS optimizer \n"
   ]
  },
  {
   "cell_type": "code",
   "execution_count": 5,
   "id": "85c1ae65-c2a8-4bd1-bbf1-2c84b14f191a",
   "metadata": {},
   "outputs": [
    {
     "name": "stdout",
     "output_type": "stream",
     "text": [
      "       Step     Time          Energy          fmax\n",
      "LBFGS:    0 14:30:31    -2079.861719        0.483773\n",
      "LBFGS:    1 14:30:31    -2079.864175        0.110125\n",
      "LBFGS:    2 14:30:31    -2079.864371        0.026661\n",
      "LBFGS:    3 14:30:32    -2079.864396        0.020670\n",
      "LBFGS:    4 14:30:32    -2079.864427        0.004628\n",
      "LBFGS:    5 14:30:32    -2079.864427        0.000617\n"
     ]
    },
    {
     "data": {
      "text/plain": [
       "np.True_"
      ]
     },
     "execution_count": 5,
     "metadata": {},
     "output_type": "execute_result"
    }
   ],
   "source": [
    "# Create water molecule\n",
    "water = molecule(\"H2O\")\n",
    "\n",
    "# Add spin and charge information\n",
    "water.info.update({\"spin\": 1, \"charge\": 0})\n",
    "water.calc = calc\n",
    "LBFGS(water).run(fmax=0.001)"
   ]
  },
  {
   "cell_type": "markdown",
   "id": "cc1fc879-a781-4c4d-ac10-90dc387ec866",
   "metadata": {},
   "source": [
    "## Vibrational Analysis\n",
    "\n",
    "We now compute vibrational frequencies using ASE's `Vibrations` class.  \n",
    "\n",
    "- `indices=None` → All atoms are included in the vibrational analysis.  \n",
    "- `delta=0.01` → Displacement step (in Å) used to compute force constants.  \n",
    "- `name=\"vib-h2o\"` → Name to use for output files and folders.  \n",
    "\n",
    "Before running, we call `.clean()` to remove old vibration files if they exist.\n"
   ]
  },
  {
   "cell_type": "code",
   "execution_count": 6,
   "id": "2a319933-bd05-491b-802f-d74cfda5f6cd",
   "metadata": {},
   "outputs": [
    {
     "name": "stdout",
     "output_type": "stream",
     "text": [
      "---------------------\n",
      "  #    meV     cm^-1\n",
      "---------------------\n",
      "  0    2.0i     15.9i\n",
      "  1    0.1i      0.6i\n",
      "  2    0.0       0.2\n",
      "  3    4.0      31.9\n",
      "  4    4.2      33.9\n",
      "  5   22.5     181.8\n",
      "  6  200.9    1620.1\n",
      "  7  473.7    3820.6\n",
      "  8  485.6    3916.9\n",
      "---------------------\n",
      "Zero-point energy: 0.595 eV\n"
     ]
    }
   ],
   "source": [
    "vib = Vibrations(water, indices=None, delta=0.01, name=\"vib-h2o\", nfree=2)\n",
    "vib.clean()\n",
    "vib.run()\n",
    "vib.summary()"
   ]
  },
  {
   "cell_type": "markdown",
   "id": "69ecb1d7-febd-4702-b3d4-3b20bb9c24eb",
   "metadata": {},
   "source": [
    "## Write Vibrational Modes\n",
    "\n",
    "For each vibrational mode, ASE can generate `.traj` files that store the atomic displacements.  \n",
    "These can be visualized to see the atomic motions associated with each vibrational frequency.\n"
   ]
  },
  {
   "cell_type": "code",
   "execution_count": 7,
   "id": "f9cd6954-1713-4b02-bb17-9ba95ca72a45",
   "metadata": {},
   "outputs": [],
   "source": [
    "# Loop through all vibrational modes and save trajectory files\n",
    "for i in range(len(vib.get_energies())):\n",
    "    vib.write_mode(i)"
   ]
  },
  {
   "cell_type": "markdown",
   "id": "88e8c3cb-033e-455e-8b26-c2dbce4a54e1",
   "metadata": {},
   "source": [
    "## Visualize Vibrational Modes\n",
    "\n",
    "We can visualize vibrational modes interactively using ASE's visualization tools.  \n",
    "Here, we use the **nglviewer** backend for interactive 3D visualization inside Jupyter.  \n",
    "\n",
    "For example, let’s visualize mode 8:\n"
   ]
  },
  {
   "cell_type": "code",
   "execution_count": 9,
   "id": "046ac8b0-6ad0-4520-b3b8-7bf7ae7b6140",
   "metadata": {},
   "outputs": [
    {
     "data": {
      "application/vnd.jupyter.widget-view+json": {
       "model_id": "b11f583b1a8244cabd937299dd6a70ae",
       "version_major": 2,
       "version_minor": 0
      },
      "text/plain": [
       "HBox(children=(NGLWidget(max_frame=29), VBox(children=(Dropdown(description='Show', options=('All', 'O', 'H'),…"
      ]
     },
     "execution_count": 9,
     "metadata": {},
     "output_type": "execute_result"
    }
   ],
   "source": [
    "mode = 8\n",
    "traj = Trajectory(f\"vib-h2o.{mode}.traj\")\n",
    "view(traj, viewer='ngl')"
   ]
  },
  {
   "cell_type": "markdown",
   "id": "cdde58c0-000f-49e6-9623-060e353dad17",
   "metadata": {},
   "source": [
    "## Vibrational Frequency Calculation of Methanol (CH₃OH)\n",
    "\n",
    "In this section, we perform vibrational analysis of methanol:\n",
    "\n",
    "1. Build the CH₃OH molecule using ASE's molecular builder.  \n",
    "2. Set spin and charge information.  \n",
    "3. Optimize the geometry with the LBFGS algorithm (`fmax=0.001 eV/Å`).  \n",
    "4. Run vibrational analysis with ASE's `Vibrations` class.  \n",
    "5. Print a summary of the vibrational frequencies.  \n",
    "\n",
    "This workflow follows the same procedure as for water, but now applied to methanol.\n"
   ]
  },
  {
   "cell_type": "code",
   "execution_count": 10,
   "id": "6ca9f5c2-b827-4fb9-9081-f3e40a8a2bb2",
   "metadata": {},
   "outputs": [
    {
     "name": "stdout",
     "output_type": "stream",
     "text": [
      "       Step     Time          Energy          fmax\n",
      "LBFGS:    0 14:32:16    -3148.816399        0.563580\n",
      "LBFGS:    1 14:32:16    -3148.819538        0.270434\n",
      "LBFGS:    2 14:32:16    -3148.820411        0.068866\n",
      "LBFGS:    3 14:32:16    -3148.820620        0.035621\n",
      "LBFGS:    4 14:32:16    -3148.820684        0.028428\n",
      "LBFGS:    5 14:32:16    -3148.820729        0.017354\n",
      "LBFGS:    6 14:32:16    -3148.820750        0.010016\n",
      "LBFGS:    7 14:32:16    -3148.820756        0.007310\n",
      "LBFGS:    8 14:32:16    -3148.820759        0.006512\n",
      "LBFGS:    9 14:32:17    -3148.820761        0.003647\n",
      "LBFGS:   10 14:32:17    -3148.820762        0.002036\n",
      "LBFGS:   11 14:32:17    -3148.820762        0.001896\n",
      "LBFGS:   12 14:32:17    -3148.820763        0.001747\n",
      "LBFGS:   13 14:32:17    -3148.820763        0.001335\n",
      "LBFGS:   14 14:32:17    -3148.820762        0.000626\n",
      "---------------------\n",
      "  #    meV     cm^-1\n",
      "---------------------\n",
      "  0   12.4i    100.0i\n",
      "  1    2.0i     16.1i\n",
      "  2    0.0i      0.3i\n",
      "  3    0.1       0.5\n",
      "  4    0.4       3.4\n",
      "  5    4.8      38.7\n",
      "  6   35.0     282.0\n",
      "  7  131.1    1057.5\n",
      "  8  135.2    1090.5\n",
      "  9  145.0    1169.6\n",
      " 10  169.1    1363.9\n",
      " 11  182.6    1473.0\n",
      " 12  184.8    1490.9\n",
      " 13  186.2    1501.5\n",
      " 14  375.0    3024.7\n",
      " 15  381.3    3075.7\n",
      " 16  389.5    3141.5\n",
      " 17  478.2    3856.6\n",
      "---------------------\n",
      "Zero-point energy: 1.399 eV\n"
     ]
    }
   ],
   "source": [
    "# for methanol\n",
    "atoms = molecule(\"CH3OH\")\n",
    "atoms.info.update({\"spin\": 1, \"charge\": 0})\n",
    "atoms.calc = calc\n",
    "LBFGS(atoms).run(fmax=0.001)\n",
    "vib = Vibrations(atoms, indices=None, delta=0.01, name=\"vib-ch3oh\", nfree=2)\n",
    "vib.clean()\n",
    "vib.run()\n",
    "vib.summary()"
   ]
  },
  {
   "cell_type": "code",
   "execution_count": null,
   "id": "8ffcfc02-16d1-458c-8041-67cd96a1a9d9",
   "metadata": {},
   "outputs": [],
   "source": []
  }
 ],
 "metadata": {
  "kernelspec": {
   "display_name": "Python 3 (ipykernel)",
   "language": "python",
   "name": "python3"
  },
  "language_info": {
   "codemirror_mode": {
    "name": "ipython",
    "version": 3
   },
   "file_extension": ".py",
   "mimetype": "text/x-python",
   "name": "python",
   "nbconvert_exporter": "python",
   "pygments_lexer": "ipython3",
   "version": "3.10.6"
  }
 },
 "nbformat": 4,
 "nbformat_minor": 5
}
