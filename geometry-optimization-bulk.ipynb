{
 "cells": [
  {
   "cell_type": "markdown",
   "id": "c6dba81f-bd75-4268-b7e0-2a0fcd97b5a8",
   "metadata": {},
   "source": [
    "# Bulk Optimization of Iron (Fe)\n",
    "\n",
    "In this case study, we optimize the **bulk structure of bcc iron** using the FairChem ML potential.  \n",
    "\n",
    "**Workflow:**\n",
    "1. Build the primitive unit cell of bcc Fe using ASE.  \n",
    "2. Attach the FairChem calculator (`umat` model).  \n",
    "3. Apply `FrechetCellFilter` to allow simultaneous relaxation of **atomic positions and unit cell**.  \n",
    "4. Use the FIRE optimizer to reach convergence.  \n",
    "5. Compare **initial vs final lattice parameters and volume**.  \n",
    "6. Visualize the optimization trajectory and the final relaxed structure.  \n",
    "\n",
    "This example shows how machine learning interatomic potentials can be applied to **periodic bulk systems** in addition to molecular systems.\n",
    "\n",
    "## Further Reading\n",
    "\n",
    "For more details, see [FAIRChem documentation](https://fair-chem.github.io/uma_tutorials/uma_tutorial.html#example-bulk-relaxation-omat)."
   ]
  },
  {
   "cell_type": "code",
   "execution_count": 1,
   "id": "225bec52-25b1-41c9-8e6e-331f262d6c45",
   "metadata": {},
   "outputs": [
    {
     "name": "stderr",
     "output_type": "stream",
     "text": [
      "W0913 18:32:43.970291 46290 torch/distributed/elastic/multiprocessing/redirects.py:29] NOTE: Redirects are currently not supported in Windows or MacOs.\n"
     ]
    },
    {
     "name": "stdout",
     "output_type": "stream",
     "text": [
      "      Step     Time          Energy          fmax\n",
      "FIRE:    0 18:32:47       -8.261158        0.651784\n",
      "FIRE:    1 18:32:47       -8.271309        0.358117\n",
      "FIRE:    2 18:32:47       -8.264588        1.650191\n",
      "FIRE:    3 18:32:48       -8.273672        0.177969\n",
      "FIRE:    4 18:32:48       -8.272634        0.269080\n",
      "FIRE:    5 18:32:48       -8.272766        0.257551\n",
      "FIRE:    6 18:32:48       -8.273009        0.234340\n",
      "FIRE:    7 18:32:48       -8.273319        0.199203\n",
      "FIRE:    8 18:32:48       -8.273635        0.151746\n",
      "FIRE:    9 18:32:48       -8.273890        0.091452\n",
      "FIRE:   10 18:32:48       -8.274015        0.017804\n",
      "FIRE:   11 18:32:48       -8.273959        0.069240\n",
      "FIRE:   12 18:32:48       -8.273962        0.067903\n",
      "FIRE:   13 18:32:48       -8.273965        0.065246\n",
      "FIRE:   14 18:32:48       -8.273971        0.061370\n",
      "FIRE:   15 18:32:49       -8.273979        0.056340\n",
      "FIRE:   16 18:32:49       -8.273987        0.050320\n",
      "FIRE:   17 18:32:49       -8.273995        0.043424\n",
      "FIRE:   18 18:32:49       -8.274003        0.035848\n",
      "FIRE:   19 18:32:49       -8.274010        0.026867\n",
      "FIRE:   20 18:32:49       -8.274016        0.016452\n",
      "FIRE:   21 18:32:49       -8.274020        0.004754\n",
      "Final stress tensor (eV/Å³):\n",
      "[-4.1590317e-04 -4.1586327e-04 -4.1589790e-04  3.3829746e-09\n",
      "  1.6584907e-09  1.0422864e-09]\n",
      "\n",
      "--- Cell Parameter Comparison (Å) ---\n",
      "Initial cell:\n",
      " Cell([[-1.435, 1.435, 1.435], [1.435, -1.435, 1.435], [1.435, 1.435, -1.435]])\n",
      "Final cell:\n",
      " Cell([[-1.4190867225555874, 1.4190867316221054, 1.4190867319018357], [1.419086726488913, -1.4190867297652228, 1.4190867339782745], [1.4190867220538417, 1.419086729263472, -1.4190867300449521]])\n",
      "\n",
      "--- Volume Comparison ---\n",
      "Initial volume: 11.820 Å³\n",
      "Final volume:   11.431 Å³\n"
     ]
    }
   ],
   "source": [
    "from ase.build import bulk\n",
    "from ase.filters import FrechetCellFilter\n",
    "from ase.optimize import FIRE\n",
    "from ase.io import Trajectory\n",
    "from ase.visualize import view\n",
    "from fairchem.core import FAIRChemCalculator, pretrained_mlip\n",
    "\n",
    "# --- Step 1: Setup Calculator ---\n",
    "predictor = pretrained_mlip.get_predict_unit(\"uma-s-1\", device=\"cpu\")\n",
    "calc = FAIRChemCalculator(predictor, task_name=\"omat\")\n",
    "\n",
    "# --- Step 2: Build bulk bcc Fe ---\n",
    "atoms = bulk(\"Fe\")  # primitive bcc cell\n",
    "atoms.calc = calc\n",
    "\n",
    "# Save initial parameters\n",
    "initial_cell = atoms.cell.copy()\n",
    "initial_vol = atoms.get_volume()\n",
    "\n",
    "# --- Step 3: Optimization with FIRE + trajectory recording ---\n",
    "traj_file = \"opt_Fe.traj\"\n",
    "opt = FIRE(FrechetCellFilter(atoms), trajectory=traj_file)\n",
    "opt.run(fmax=0.01, steps=200)\n",
    "\n",
    "# --- Step 4: Save final parameters ---\n",
    "final_cell = atoms.cell\n",
    "final_vol = atoms.get_volume()\n",
    "\n",
    "# --- Step 5: Stress tensor ---\n",
    "print(\"Final stress tensor (eV/Å³):\")\n",
    "print(atoms.get_stress())\n",
    "\n",
    "# --- Step 6: Print comparison ---\n",
    "print(\"\\n--- Cell Parameter Comparison (Å) ---\")\n",
    "print(\"Initial cell:\\n\", initial_cell)\n",
    "print(\"Final cell:\\n\", final_cell)\n",
    "\n",
    "print(\"\\n--- Volume Comparison ---\")\n",
    "print(f\"Initial volume: {initial_vol:.3f} Å³\")\n",
    "print(f\"Final volume:   {final_vol:.3f} Å³\")\n"
   ]
  },
  {
   "cell_type": "code",
   "execution_count": 2,
   "id": "6af86d10-72ea-48ab-b6fc-29b1748bf1df",
   "metadata": {},
   "outputs": [
    {
     "name": "stdout",
     "output_type": "stream",
     "text": [
      "Trajectory contains 22 frames.\n"
     ]
    },
    {
     "data": {
      "application/vnd.jupyter.widget-view+json": {
       "model_id": "1326287ee5da43d2b696c101deb92cd4",
       "version_major": 2,
       "version_minor": 0
      },
      "text/plain": []
     },
     "metadata": {},
     "output_type": "display_data"
    },
    {
     "data": {
      "application/vnd.jupyter.widget-view+json": {
       "model_id": "b33da4af416641aa87043ebb5dbd69c0",
       "version_major": 2,
       "version_minor": 0
      },
      "text/plain": [
       "HBox(children=(NGLWidget(max_frame=21), VBox(children=(Dropdown(description='Show', options=('All', 'Fe'), val…"
      ]
     },
     "execution_count": 2,
     "metadata": {},
     "output_type": "execute_result"
    }
   ],
   "source": [
    "# Load and view optimization trajectory\n",
    "traj = Trajectory(\"opt_Fe.traj\")\n",
    "print(f\"Trajectory contains {len(traj)} frames.\")\n",
    "\n",
    "# Interactive visualization\n",
    "view(traj, viewer=\"ngl\")\n"
   ]
  },
  {
   "cell_type": "code",
   "execution_count": null,
   "id": "53b44102-f161-49f3-a631-3386308bd198",
   "metadata": {},
   "outputs": [],
   "source": []
  }
 ],
 "metadata": {
  "kernelspec": {
   "display_name": "Python 3 (ipykernel)",
   "language": "python",
   "name": "python3"
  },
  "language_info": {
   "codemirror_mode": {
    "name": "ipython",
    "version": 3
   },
   "file_extension": ".py",
   "mimetype": "text/x-python",
   "name": "python",
   "nbconvert_exporter": "python",
   "pygments_lexer": "ipython3",
   "version": "3.10.6"
  }
 },
 "nbformat": 4,
 "nbformat_minor": 5
}
