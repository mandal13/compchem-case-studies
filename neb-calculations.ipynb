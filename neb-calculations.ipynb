{
 "cells": [
  {
   "cell_type": "markdown",
   "id": "e8a72595-efaf-4eb6-9349-5d13214d0f26",
   "metadata": {},
   "source": [
    "# Transition State Search: O Diffusion on Pt(111) using NEB\n",
    "\n",
    "In this case study, we use the **Nudged Elastic Band (NEB)** method to determine the minimum energy path (MEP) and activation energy barrier for the diffusion of an O adatom from an **fcc site** to an **hcp site** on a Pt(111) surface.\n",
    "\n",
    "**Workflow:**\n",
    "1. Build the Pt(111) slab.  \n",
    "2. Place O adatom in the *fcc* site and optimize → **initial state**.  \n",
    "3. Place O adatom in the *hcp* site and optimize → **final state**.  \n",
    "4. Generate intermediate images and construct the NEB band.  \n",
    "5. Optimize the NEB band to find the minimum energy path.  \n",
    "6. Plot the NEB band to extract activation energy and barrier profile.  \n",
    "\n",
    "This illustrates how ML-based potentials (FairChem) enable efficient transition state searches in heterogeneous catalysis.\n",
    "\n",
    "## Further Reading\n",
    "\n",
    "For more details, see [FAIRChem documentation](https://fair-chem.github.io/uma_tutorials/uma_tutorial.html#transition-states-nebs).\n"
   ]
  },
  {
   "cell_type": "code",
   "execution_count": 1,
   "id": "67a10945-dbb2-470a-9b7e-407bbe3a9edb",
   "metadata": {},
   "outputs": [
    {
     "name": "stderr",
     "output_type": "stream",
     "text": [
      "W0913 23:53:14.220796 48864 torch/distributed/elastic/multiprocessing/redirects.py:29] NOTE: Redirects are currently not supported in Windows or MacOs.\n"
     ]
    },
    {
     "name": "stdout",
     "output_type": "stream",
     "text": [
      "       Step     Time          Energy          fmax\n",
      "LBFGS:    0 23:53:18     -141.329803        3.509945\n",
      "LBFGS:    1 23:53:18     -141.719924        3.515033\n",
      "LBFGS:    2 23:53:19     -142.980937        2.978364\n",
      "LBFGS:    3 23:53:19     -143.684050        0.968213\n",
      "LBFGS:    4 23:53:19     -143.787047        1.271653\n",
      "LBFGS:    5 23:53:20     -143.858776        0.874621\n",
      "LBFGS:    6 23:53:20     -143.933926        0.170929\n",
      "LBFGS:    7 23:53:20     -143.937116        0.152466\n",
      "LBFGS:    8 23:53:21     -143.944597        0.122212\n",
      "LBFGS:    9 23:53:21     -143.948828        0.109262\n",
      "LBFGS:   10 23:53:21     -143.952234        0.069951\n",
      "LBFGS:   11 23:53:22     -143.953715        0.080120\n",
      "LBFGS:   12 23:53:22     -143.955175        0.083500\n",
      "LBFGS:   13 23:53:22     -143.956798        0.066270\n",
      "LBFGS:   14 23:53:23     -143.958313        0.031468\n",
      "LBFGS:   15 23:53:23     -143.959037        0.026420\n",
      "LBFGS:   16 23:53:24     -143.959278        0.022171\n",
      "LBFGS:   17 23:53:24     -143.959439        0.018097\n",
      "LBFGS:   18 23:53:24     -143.959649        0.018774\n",
      "LBFGS:   19 23:53:25     -143.959817        0.016060\n",
      "LBFGS:   20 23:53:25     -143.959901        0.013367\n",
      "LBFGS:   21 23:53:25     -143.959938        0.014498\n",
      "LBFGS:   22 23:53:26     -143.959987        0.014874\n",
      "LBFGS:   23 23:53:26     -143.960049        0.013267\n",
      "LBFGS:   24 23:53:26     -143.960096        0.009503\n",
      "Initial state energy: -143.96009567374358\n",
      "       Step     Time          Energy          fmax\n",
      "LBFGS:    0 23:53:27     -141.282604        3.340432\n",
      "LBFGS:    1 23:53:27     -141.659793        3.323331\n",
      "LBFGS:    2 23:53:27     -142.891405        2.596621\n",
      "LBFGS:    3 23:53:28     -143.418901        1.225927\n",
      "LBFGS:    4 23:53:28     -143.484096        0.977172\n",
      "LBFGS:    5 23:53:29     -143.606345        0.136702\n",
      "LBFGS:    6 23:53:29     -143.610839        0.118718\n",
      "LBFGS:    7 23:53:29     -143.613320        0.100029\n",
      "LBFGS:    8 23:53:30     -143.615007        0.078399\n",
      "LBFGS:    9 23:53:30     -143.616456        0.051654\n",
      "LBFGS:   10 23:53:30     -143.617141        0.033181\n",
      "LBFGS:   11 23:53:31     -143.617407        0.027493\n",
      "LBFGS:   12 23:53:31     -143.617605        0.025027\n",
      "LBFGS:   13 23:53:31     -143.617865        0.019523\n",
      "LBFGS:   14 23:53:32     -143.618083        0.025446\n",
      "LBFGS:   15 23:53:32     -143.618193        0.027013\n",
      "LBFGS:   16 23:53:32     -143.618253        0.022965\n",
      "LBFGS:   17 23:53:33     -143.618310        0.015748\n",
      "LBFGS:   18 23:53:33     -143.618379        0.008901\n",
      "Final state energy: -143.61837890738616\n"
     ]
    }
   ],
   "source": [
    "from ase.build import add_adsorbate, fcc111, molecule\n",
    "from ase.optimize import LBFGS\n",
    "from fairchem.core import FAIRChemCalculator, pretrained_mlip\n",
    "from ase.mep import NEB, NEBTools\n",
    "from ase.io import Trajectory\n",
    "from ase.visualize import view\n",
    "\n",
    "# --- Step 1: Setup FairChem Calculator ---\n",
    "predictor = pretrained_mlip.get_predict_unit(\"uma-s-1\", device=\"cpu\")\n",
    "calc = FAIRChemCalculator(predictor, task_name=\"oc20\")\n",
    "\n",
    "# --- Step 2: Initial state (O in fcc site) ---\n",
    "initial = fcc111(\"Pt\", (3, 3, 3), vacuum=8, periodic=True)\n",
    "adsorbate = molecule(\"O\")\n",
    "add_adsorbate(initial, adsorbate, 2.0, \"fcc\")\n",
    "initial.calc = calc\n",
    "opt = LBFGS(initial)\n",
    "opt.run(fmax=0.01, steps=100)\n",
    "print(\"Initial state energy:\", initial.get_potential_energy())\n",
    "\n",
    "# --- Step 3: Final state (O in hcp site) ---\n",
    "final = fcc111(\"Pt\", (3, 3, 3), vacuum=8, periodic=True)\n",
    "adsorbate = molecule(\"O\")\n",
    "add_adsorbate(final, adsorbate, 2.0, \"hcp\")\n",
    "final.calc = FAIRChemCalculator(predictor, task_name=\"oc20\")\n",
    "opt = LBFGS(final)\n",
    "opt.run(fmax=0.01, steps=100)\n",
    "print(\"Final state energy:\", final.get_potential_energy())"
   ]
  },
  {
   "cell_type": "code",
   "execution_count": 2,
   "id": "22a7b809-fe8c-473b-b970-1872ec5ad8d6",
   "metadata": {},
   "outputs": [
    {
     "data": {
      "application/vnd.jupyter.widget-view+json": {
       "model_id": "51e07faa12154a4e898b032083c5d574",
       "version_major": 2,
       "version_minor": 0
      },
      "text/plain": []
     },
     "metadata": {},
     "output_type": "display_data"
    },
    {
     "data": {
      "application/vnd.jupyter.widget-view+json": {
       "model_id": "a9400b1718ce44b1abefdf5e96159563",
       "version_major": 2,
       "version_minor": 0
      },
      "text/plain": [
       "HBox(children=(NGLWidget(max_frame=1), VBox(children=(Dropdown(description='Show', options=('All', 'Pt', 'O'),…"
      ]
     },
     "execution_count": 2,
     "metadata": {},
     "output_type": "execute_result"
    }
   ],
   "source": [
    "# Make sure the structures are correct:\n",
    "view([initial, final], viewer=\"ngl\")"
   ]
  },
  {
   "cell_type": "code",
   "execution_count": 3,
   "id": "e81d2909-93ff-424b-a9b7-49c674ae9121",
   "metadata": {},
   "outputs": [
    {
     "name": "stdout",
     "output_type": "stream",
     "text": [
      "       Step     Time          Energy          fmax\n",
      "LBFGS:    0 23:54:01     -143.192768        3.057364\n",
      "LBFGS:    1 23:54:02     -143.359404        1.474606\n",
      "LBFGS:    2 23:54:03     -143.410682        0.464277\n",
      "LBFGS:    3 23:54:05     -143.422910        0.452617\n",
      "LBFGS:    4 23:54:06     -143.442601        0.484322\n",
      "LBFGS:    5 23:54:07     -143.459097        0.383559\n",
      "LBFGS:    6 23:54:08     -143.469954        0.213784\n",
      "LBFGS:    7 23:54:09     -143.475163        0.168626\n",
      "LBFGS:    8 23:54:10     -143.476046        0.210974\n",
      "LBFGS:    9 23:54:11     -143.477464        0.181440\n",
      "LBFGS:   10 23:54:12     -143.478936        0.160192\n",
      "LBFGS:   11 23:54:13     -143.479462        0.087441\n",
      "LBFGS:   12 23:54:14     -143.479610        0.087808\n",
      "LBFGS:   13 23:54:15     -143.479892        0.106212\n",
      "LBFGS:   14 23:54:16     -143.480418        0.121387\n",
      "LBFGS:   15 23:54:18     -143.481025        0.086837\n",
      "LBFGS:   16 23:54:19     -143.481420        0.052712\n",
      "LBFGS:   17 23:54:20     -143.481723        0.043313\n"
     ]
    },
    {
     "data": {
      "text/plain": [
       "np.True_"
      ]
     },
     "execution_count": 3,
     "metadata": {},
     "output_type": "execute_result"
    }
   ],
   "source": [
    "# --- Step 4: Setup NEB images ---\n",
    "images = [initial]\n",
    "for i in range(3):  # 3 intermediate images\n",
    "    image = initial.copy()\n",
    "    image.calc = FAIRChemCalculator(predictor, task_name=\"oc20\")\n",
    "    images.append(image)\n",
    "images.append(final)\n",
    "\n",
    "# --- Step 5: Construct NEB band ---\n",
    "neb = NEB(images)\n",
    "neb.interpolate()\n",
    "\n",
    "# Optimize NEB\n",
    "opt = LBFGS(neb, trajectory=\"neb.traj\")\n",
    "opt.run(fmax=0.05, steps=100)"
   ]
  },
  {
   "cell_type": "code",
   "execution_count": 4,
   "id": "d85b893b-80f8-4dc1-9384-c2ff26f36d09",
   "metadata": {},
   "outputs": [
    {
     "data": {
      "image/png": "[encoded data removed]",
      "text/plain": [
       "<Figure size 640x480 with 1 Axes>"
      ]
     },
     "metadata": {},
     "output_type": "display_data"
    }
   ],
   "source": [
    "# --- Step 6: Analyze band ---\n",
    "NEBTools(neb.images).plot_band();"
   ]
  },
  {
   "cell_type": "code",
   "execution_count": 5,
   "id": "29716ea8-d66b-4eb4-89f8-8800f7a740e7",
   "metadata": {},
   "outputs": [
    {
     "name": "stdout",
     "output_type": "stream",
     "text": [
      "NEB trajectory contains 90 frames.\n"
     ]
    },
    {
     "data": {
      "application/vnd.jupyter.widget-view+json": {
       "model_id": "0ab531624ff54c19a69caec1eecdafed",
       "version_major": 2,
       "version_minor": 0
      },
      "text/plain": [
       "HBox(children=(NGLWidget(max_frame=89), VBox(children=(Dropdown(description='Show', options=('All', 'Pt', 'O')…"
      ]
     },
     "execution_count": 5,
     "metadata": {},
     "output_type": "execute_result"
    }
   ],
   "source": [
    "# Load and visualize NEB trajectory interactively\n",
    "traj = Trajectory(\"neb.traj\")\n",
    "print(f\"NEB trajectory contains {len(traj)} frames.\")\n",
    "\n",
    "view(traj, viewer=\"ngl\")"
   ]
  },
  {
   "cell_type": "code",
   "execution_count": null,
   "id": "eb58a829-49cf-4752-97fb-6ef0fbfa6792",
   "metadata": {},
   "outputs": [],
   "source": []
  }
 ],
 "metadata": {
  "kernelspec": {
   "display_name": "Python 3 (ipykernel)",
   "language": "python",
   "name": "python3"
  },
  "language_info": {
   "codemirror_mode": {
    "name": "ipython",
    "version": 3
   },
   "file_extension": ".py",
   "mimetype": "text/x-python",
   "name": "python",
   "nbconvert_exporter": "python",
   "pygments_lexer": "ipython3",
   "version": "3.10.6"
  }
 },
 "nbformat": 4,
 "nbformat_minor": 5
}
