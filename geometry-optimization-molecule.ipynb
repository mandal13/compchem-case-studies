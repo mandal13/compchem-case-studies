{
 "cells": [
  {
   "cell_type": "markdown",
   "id": "8baf5594-e058-43b9-b71f-34fb6fb34a83",
   "metadata": {},
   "source": [
    "# Geometry Optimization of Water Molecule (H₂O)\n",
    "\n",
    "In this case study, we demonstrate **geometry optimization** of a water molecule using  \n",
    "the **FAIRChem MLIP** with ASE’s optimization algorithms.\n",
    "\n",
    "**Objectives:**\n",
    "1. Build a water molecule with ASE’s molecular builder.  \n",
    "2. Set spin and charge information.  \n",
    "3. Attach the FAIRChem calculator (`uma-s-1`).  \n",
    "4. Optimize the geometry using the **LBFGS** optimizer.  \n",
    "5. Compare the **initial** vs **optimized** geometry (bond lengths and bond angle).  \n",
    "6. Visualize the optimized structure.  \n"
   ]
  },
  {
   "cell_type": "code",
   "execution_count": 1,
   "id": "8982e508-a673-421f-aead-ad28f7ea7d69",
   "metadata": {},
   "outputs": [
    {
     "name": "stderr",
     "output_type": "stream",
     "text": [
      "W0913 18:07:07.822893 45908 torch/distributed/elastic/multiprocessing/redirects.py:29] NOTE: Redirects are currently not supported in Windows or MacOs.\n"
     ]
    },
    {
     "name": "stdout",
     "output_type": "stream",
     "text": [
      "Initial Geometry of H2O\n",
      "O–H1 = 0.969 Å, O–H2 = 0.969 Å\n",
      "H–O–H angle = 104.00°\n",
      "\n",
      "       Step     Time          Energy          fmax\n",
      "LBFGS:    0 18:07:11    -2079.861719        0.483773\n",
      "LBFGS:    1 18:07:11    -2079.864175        0.110125\n",
      "LBFGS:    2 18:07:11    -2079.864371        0.026661\n",
      "LBFGS:    3 18:07:11    -2079.864396        0.020670\n",
      "LBFGS:    4 18:07:11    -2079.864427        0.004628\n",
      "LBFGS:    5 18:07:11    -2079.864427        0.000617\n",
      "LBFGS:    6 18:07:11    -2079.864427        0.000125\n",
      "LBFGS:    7 18:07:11    -2079.864427        0.000127\n",
      "LBFGS:    8 18:07:11    -2079.864427        0.000495\n",
      "LBFGS:    9 18:07:11    -2079.864427        0.000760\n",
      "LBFGS:   10 18:07:11    -2079.864427        0.000898\n",
      "LBFGS:   11 18:07:12    -2079.864427        0.000593\n",
      "LBFGS:   12 18:07:12    -2079.864427        0.000173\n",
      "LBFGS:   13 18:07:12    -2079.864428        0.000022\n",
      "Optimized Geometry of H2O\n",
      "O–H1 = 0.962 Å, O–H2 = 0.962 Å\n",
      "H–O–H angle = 104.96°\n"
     ]
    }
   ],
   "source": [
    "from ase.build import molecule\n",
    "from ase.optimize import LBFGS\n",
    "from ase.visualize import view\n",
    "from ase.io import Trajectory\n",
    "import matplotlib.pyplot as plt\n",
    "\n",
    "from fairchem.core import FAIRChemCalculator, pretrained_mlip\n",
    "\n",
    "# --- Load FAIRChem MLIP ---\n",
    "predictor = pretrained_mlip.get_predict_unit(\"uma-s-1\", device=\"cpu\")\n",
    "calc = FAIRChemCalculator(predictor, task_name=\"omol\")\n",
    "\n",
    "# --- Build water molecule ---\n",
    "water = molecule(\"H2O\")\n",
    "water.info.update({\"spin\": 1, \"charge\": 0})\n",
    "\n",
    "# Attach calculator\n",
    "water.calc = calc\n",
    "\n",
    "# --- Print initial geometry ---\n",
    "print(\"Initial Geometry of H2O\")\n",
    "print(f\"O–H1 = {water.get_distance(0,1):.3f} Å, O–H2 = {water.get_distance(0,2):.3f} Å\")\n",
    "print(f\"H–O–H angle = {water.get_angle(1,0,2):.2f}°\\n\")\n",
    "\n",
    "# --- Optimize geometry ---\n",
    "dyn = LBFGS(water, trajectory=\"lbfgs_h2o.traj\")\n",
    "dyn.run(fmax=0.0001)\n",
    "\n",
    "# --- Print optimized geometry ---\n",
    "print(\"Optimized Geometry of H2O\")\n",
    "print(f\"O–H1 = {water.get_distance(0,1):.3f} Å, O–H2 = {water.get_distance(0,2):.3f} Å\")\n",
    "print(f\"H–O–H angle = {water.get_angle(1,0,2):.2f}°\")"
   ]
  },
  {
   "cell_type": "code",
   "execution_count": 2,
   "id": "c1176c47-3f15-47ee-9aed-29764b955978",
   "metadata": {},
   "outputs": [
    {
     "data": {
      "image/png": "[encoded data removed]",
      "text/plain": [
       "<Figure size 640x480 with 1 Axes>"
      ]
     },
     "metadata": {},
     "output_type": "display_data"
    }
   ],
   "source": [
    "# --- Plot energy vs optimization step ---\n",
    "\n",
    "traj = Trajectory(\"lbfgs_h2o.traj\")\n",
    "\n",
    "energies = [atoms.get_potential_energy() for atoms in traj]\n",
    "plt.plot(range(len(energies)), energies, marker=\"o\")\n",
    "plt.xlabel(\"Optimization Step\")\n",
    "plt.ylabel(\"Energy (eV)\")\n",
    "plt.title(\"Geometry Optimization of H2O\")\n",
    "plt.grid(True)\n",
    "plt.show()\n"
   ]
  },
  {
   "cell_type": "code",
   "execution_count": 3,
   "id": "bdc8c9c7-9162-4b92-aa07-164703a45b96",
   "metadata": {},
   "outputs": [
    {
     "name": "stdout",
     "output_type": "stream",
     "text": [
      "Showing optimization trajectory...\n"
     ]
    },
    {
     "data": {
      "application/vnd.jupyter.widget-view+json": {
       "model_id": "09e54834c708474985f59be000e90264",
       "version_major": 2,
       "version_minor": 0
      },
      "text/plain": []
     },
     "metadata": {},
     "output_type": "display_data"
    },
    {
     "data": {
      "application/vnd.jupyter.widget-view+json": {
       "model_id": "f98081298b334d6cbbcd37137144f641",
       "version_major": 2,
       "version_minor": 0
      },
      "text/plain": [
       "HBox(children=(NGLWidget(max_frame=13), VBox(children=(Dropdown(description='Show', options=('All', 'H', 'O'),…"
      ]
     },
     "execution_count": 3,
     "metadata": {},
     "output_type": "execute_result"
    }
   ],
   "source": [
    "# Visualize all steps in the trajectory \n",
    "print(\"Showing optimization trajectory...\")\n",
    "\n",
    "view(traj, viewer='ngl')"
   ]
  },
  {
   "cell_type": "code",
   "execution_count": 4,
   "id": "afd9dca6-9c2c-4250-97c9-3e914d5b4f74",
   "metadata": {},
   "outputs": [
    {
     "data": {
      "application/vnd.jupyter.widget-view+json": {
       "model_id": "99f4f1225b944addb3aa41f94bfb0334",
       "version_major": 2,
       "version_minor": 0
      },
      "text/plain": [
       "HBox(children=(NGLWidget(), VBox(children=(Dropdown(description='Show', options=('All', 'H', 'O'), value='All'…"
      ]
     },
     "execution_count": 4,
     "metadata": {},
     "output_type": "execute_result"
    }
   ],
   "source": [
    "# --- Visualize optimized structure ---\n",
    "view(water, viewer=\"ngl\")"
   ]
  },
  {
   "cell_type": "markdown",
   "id": "e6288214-37d8-464b-b583-c0dd4211ab7e",
   "metadata": {},
   "source": [
    "\n"
   ]
  }
 ],
 "metadata": {
  "kernelspec": {
   "display_name": "Python 3 (ipykernel)",
   "language": "python",
   "name": "python3"
  },
  "language_info": {
   "codemirror_mode": {
    "name": "ipython",
    "version": 3
   },
   "file_extension": ".py",
   "mimetype": "text/x-python",
   "name": "python",
   "nbconvert_exporter": "python",
   "pygments_lexer": "ipython3",
   "version": "3.10.6"
  }
 },
 "nbformat": 4,
 "nbformat_minor": 5
}
